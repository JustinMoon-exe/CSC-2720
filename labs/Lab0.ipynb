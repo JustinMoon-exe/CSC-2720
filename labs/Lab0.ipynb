{
  "nbformat": 4,
  "nbformat_minor": 0,
  "metadata": {
    "colab": {
      "provenance": []
    },
    "kernelspec": {
      "name": "python3",
      "display_name": "Python 3"
    },
    "language_info": {
      "name": "python"
    }
  },
  "cells": [
    {
      "cell_type": "code",
      "execution_count": null,
      "metadata": {
        "id": "15PSeEVBcCwt"
      },
      "outputs": [],
      "source": []
    },
    {
      "cell_type": "code",
      "source": [
        "#  iterative search\n",
        "\n",
        "def binarysearch(a, t):\n",
        "    low = 0\n",
        "    high = len(a)-1\n",
        "    while low <= high:\n",
        "        mid = low + (high-low)//2\n",
        "        if target == a[mid]:\n",
        "            return (mid)\n",
        "        elif a[mid] < target:\n",
        "            low = mid + 1\n",
        "        else:\n",
        "            high = mid - 1\n",
        "    return(-1)\n",
        "\n",
        "#  Recusrive Method\n",
        "\n",
        "def binarysearch_recursive(arr, target, low, high):\n",
        "    if high >= low:\n",
        "        mid = low + (high - low) // 2\n",
        "        if arr[mid] == target:\n",
        "            return mid\n",
        "        elif arr[mid] > target:\n",
        "            return binarysearch_recursive(arr, target, low, mid - 1)\n",
        "        else:\n",
        "            return binarysearch_recursive(arr, target, mid + 1, high)\n",
        "    else:\n",
        "        return -1\n",
        "\n",
        "a = [-1, 0, 3, 5, 9, 12]\n",
        "target = 9\n",
        "\n",
        "print(\"Index from Iterative:\" , binarysearch(a, target))\n",
        "print(\"Index from Iterative:\" , binarysearch_recursive(a, target, a[0], a[len(a)-1]))"
      ],
      "metadata": {
        "colab": {
          "base_uri": "https://localhost:8080/"
        },
        "id": "O6NdaE5ScdN6",
        "outputId": "2ec716ed-cf90-4800-86e8-e9c1d1540aad"
      },
      "execution_count": 9,
      "outputs": [
        {
          "output_type": "stream",
          "name": "stdout",
          "text": [
            "Index from Iterative: 4\n",
            "Index from Iterative: 4\n"
          ]
        }
      ]
    },
    {
      "cell_type": "markdown",
      "source": [
        "Justin Moonjeli\n",
        "Given an array [-1, 0, 3, 5, 9, 12] and a target = 9 return the index of the target variable useing binary serach using both iterative and recursive methods."
      ],
      "metadata": {
        "id": "x3EIlL9KcFG5"
      }
    }
  ]
}